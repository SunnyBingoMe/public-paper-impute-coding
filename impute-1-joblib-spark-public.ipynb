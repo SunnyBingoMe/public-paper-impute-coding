{
 "cells": [
  {
   "cell_type": "markdown",
   "metadata": {
    "deletable": true,
    "editable": true
   },
   "source": [
    "### usage after exporting as .py\n",
    "$python2 impute-1-coding.py [distance type 0~2] [number of runner] [runnder index 0~]"
   ]
  },
  {
   "cell_type": "markdown",
   "metadata": {
    "collapsed": true,
    "deletable": true,
    "editable": true
   },
   "source": [
    "### pre-requirement\n",
    "pip2 install statsmodels matplotlib scipy numpy joblib pandas"
   ]
  },
  {
   "cell_type": "code",
   "execution_count": 322,
   "metadata": {
    "collapsed": true,
    "deletable": true,
    "editable": true
   },
   "outputs": [],
   "source": [
    "debugging = False\n",
    "real_impute_NOT_param_estimate = False\n",
    "use_spark = True # otherwise, will use joblib"
   ]
  },
  {
   "cell_type": "code",
   "execution_count": 323,
   "metadata": {
    "collapsed": true,
    "deletable": true,
    "editable": true
   },
   "outputs": [],
   "source": [
    "import sys\n",
    "if('ipykernel_launcher' in sys.argv[0]):\n",
    "    using_jupyter_gui = True\n",
    "else:\n",
    "    using_jupyter_gui = False"
   ]
  },
  {
   "cell_type": "code",
   "execution_count": null,
   "metadata": {
    "collapsed": true,
    "deletable": true,
    "editable": true
   },
   "outputs": [],
   "source": [
    "if(not using_jupyter_gui and use_spark):\n",
    "    from pyspark import SparkContext, SparkConf\n",
    "    appName = 'impute'\n",
    "    master = 'spark://sparkmaster.dmml.stream:7077'\n",
    "    conf = SparkConf().setAppName(appName).setMaster(master)\n",
    "    sc = SparkContext(conf=conf)"
   ]
  },
  {
   "cell_type": "code",
   "execution_count": 324,
   "metadata": {
    "collapsed": true,
    "deletable": true,
    "editable": true,
    "scrolled": false
   },
   "outputs": [],
   "source": [
    "# custom lib\n",
    "import pandas as pd\n",
    "import numpy as np\n",
    "import scipy as sp\n",
    "from joblib import Parallel, delayed\n",
    "\n",
    "# build-in lib\n",
    "import time\n",
    "from datetime import datetime\n",
    "import math"
   ]
  },
  {
   "cell_type": "code",
   "execution_count": 325,
   "metadata": {
    "collapsed": true,
    "deletable": true,
    "editable": true
   },
   "outputs": [],
   "source": [
    "import warnings\n",
    "import itertools\n",
    "import statsmodels.api as sm\n",
    "\n",
    "if(using_jupyter_gui):\n",
    "    import matplotlib.pyplot as plt\n",
    "    #plt.style.use('ggplot')\n",
    "    plt.style.use('fivethirtyeight')"
   ]
  },
  {
   "cell_type": "code",
   "execution_count": 326,
   "metadata": {
    "collapsed": true,
    "deletable": true,
    "editable": true,
    "scrolled": true
   },
   "outputs": [],
   "source": [
    "if(using_jupyter_gui):\n",
    "    use_missing_ratio = '0.05' # for manual usage in jupyter GUI, will be over-written by CLI\n",
    "else:\n",
    "    distance_index = int(sys.argv[1])\n",
    "    total_runner = int(sys.argv[2])\n",
    "    runner_index = int(sys.argv[3])\n",
    "    if(len(sys.argv) >= 5):\n",
    "        use_missing_ratio = sys.argv[4]"
   ]
  },
  {
   "cell_type": "code",
   "execution_count": 327,
   "metadata": {
    "collapsed": true,
    "deletable": true,
    "editable": true,
    "scrolled": true
   },
   "outputs": [],
   "source": [
    "if ('distance_index' not in locals() and 'distance_index' not in globals()):\n",
    "    distance_index = 2\n",
    "if ('total_runner' not in locals() and 'total_runner' not in globals()):\n",
    "    total_runner = 1\n",
    "if ('runner_index' not in locals() and 'runner_index' not in globals()):\n",
    "    runner_index = 0\n",
    "if ('use_missing_ratio' not in locals() and 'use_missing_ratio' not in globals()):\n",
    "    use_missing_ratio = '0.05'"
   ]
  },
  {
   "cell_type": "code",
   "execution_count": 328,
   "metadata": {
    "collapsed": true,
    "deletable": true,
    "editable": true
   },
   "outputs": [],
   "source": [
    "if(distance_index == 0):\n",
    "    distance_type_string = 'ed' # dated\n",
    "elif(distance_index == 1):\n",
    "    distance_type_string = 'ed_extended' # dated\n",
    "elif(distance_index == 2):\n",
    "    distance_type_string = 'ed_extended_weighted' # GSW\n",
    "elif(distance_index == 3):\n",
    "    distance_type_string = 'dtw' # or fast-kernel-alignment # not available yet"
   ]
  },
  {
   "cell_type": "code",
   "execution_count": 329,
   "metadata": {
    "collapsed": true,
    "deletable": true,
    "editable": true
   },
   "outputs": [],
   "source": [
    "#exp_started_datetime_string = datetime.now().strftime(\"%Y%m%d_%H%M%S\")\n",
    "exp_started_datetime_string = datetime.now().strftime(\"%Y%m%d_%H%M\")"
   ]
  },
  {
   "cell_type": "code",
   "execution_count": 330,
   "metadata": {
    "collapsed": false,
    "deletable": true,
    "editable": true,
    "scrolled": true
   },
   "outputs": [
    {
     "name": "stdout",
     "output_type": "stream",
     "text": [
      "started_GMT_20170918_1851-distance_2ed_extended_weighted--missing_0.05-runner_1_0\n"
     ]
    }
   ],
   "source": [
    "filename_prefix = 'started_GMT_' + exp_started_datetime_string + '-distance_2ed_extended_weighted-' + '-missing_' + use_missing_ratio + '-runner_' + str(total_runner) + '_' + str(runner_index)\n",
    "if(debugging):\n",
    "    filename_prefix = 'debugging-' + filename_prefix\n",
    "filename_data = filename_prefix + '.npy'\n",
    "filename_log = 'log/' + filename_prefix + '.log.txt'\n",
    "print(filename_prefix)"
   ]
  },
  {
   "cell_type": "code",
   "execution_count": 331,
   "metadata": {
    "collapsed": true,
    "deletable": true,
    "editable": true
   },
   "outputs": [],
   "source": [
    "# redirect output print to a log file\n",
    "if(not using_jupyter_gui):\n",
    "    import sys\n",
    "    orig_stdout = sys.stdout\n",
    "    f_stdout = open(filename_log, 'w')\n",
    "    sys.stdout = f_stdout"
   ]
  },
  {
   "cell_type": "code",
   "execution_count": 402,
   "metadata": {
    "collapsed": false,
    "deletable": true,
    "editable": true
   },
   "outputs": [
    {
     "name": "stdout",
     "output_type": "stream",
     "text": [
      "<ipython-input-402-2546d67b20f6>\n",
      "/home/hpc/Dropbox/impute-coding\n"
     ]
    }
   ],
   "source": [
    "import inspect, os\n",
    "print(inspect.getfile(inspect.currentframe())) # script filename (usually with path)\n",
    "print(os.path.dirname(os.path.abspath(inspect.getfile(inspect.currentframe())))) # script directory"
   ]
  },
  {
   "cell_type": "code",
   "execution_count": 401,
   "metadata": {
    "collapsed": false,
    "deletable": true,
    "editable": true
   },
   "outputs": [
    {
     "name": "stdout",
     "output_type": "stream",
     "text": [
      "/home/hpc/Dropbox/impute-coding/<ipython-input-401-6b967e52808e>\n"
     ]
    }
   ],
   "source": [
    "import os\n",
    "print(os.path.abspath(inspect.stack()[0][1]))"
   ]
  },
  {
   "cell_type": "markdown",
   "metadata": {
    "deletable": true,
    "editable": true
   },
   "source": [
    "# Read Data"
   ]
  },
  {
   "cell_type": "code",
   "execution_count": 332,
   "metadata": {
    "collapsed": false,
    "deletable": true,
    "editable": true
   },
   "outputs": [
    {
     "data": {
      "text/plain": [
       "pandas.core.frame.DataFrame"
      ]
     },
     "execution_count": 332,
     "metadata": {},
     "output_type": "execute_result"
    }
   ],
   "source": [
    "read_data = pd.read_csv('Dodgers.data.csv')\n",
    "read_data = read_data[['COUNT_TIME', 'NUM_TOTAL']]\n",
    "type(read_data)"
   ]
  },
  {
   "cell_type": "code",
   "execution_count": 333,
   "metadata": {
    "collapsed": false,
    "deletable": true,
    "editable": true,
    "scrolled": true
   },
   "outputs": [
    {
     "data": {
      "text/html": [
       "<div>\n",
       "<table border=\"1\" class=\"dataframe\">\n",
       "  <thead>\n",
       "    <tr style=\"text-align: right;\">\n",
       "      <th></th>\n",
       "      <th>COUNT_TIME</th>\n",
       "      <th>NUM_TOTAL</th>\n",
       "    </tr>\n",
       "  </thead>\n",
       "  <tbody>\n",
       "    <tr>\n",
       "      <th>0</th>\n",
       "      <td>4/10/2005 0:00</td>\n",
       "      <td>-1</td>\n",
       "    </tr>\n",
       "    <tr>\n",
       "      <th>1</th>\n",
       "      <td>4/10/2005 0:05</td>\n",
       "      <td>-1</td>\n",
       "    </tr>\n",
       "    <tr>\n",
       "      <th>2</th>\n",
       "      <td>4/10/2005 0:10</td>\n",
       "      <td>-1</td>\n",
       "    </tr>\n",
       "    <tr>\n",
       "      <th>3</th>\n",
       "      <td>4/10/2005 0:15</td>\n",
       "      <td>-1</td>\n",
       "    </tr>\n",
       "    <tr>\n",
       "      <th>4</th>\n",
       "      <td>4/10/2005 0:20</td>\n",
       "      <td>-1</td>\n",
       "    </tr>\n",
       "  </tbody>\n",
       "</table>\n",
       "</div>"
      ],
      "text/plain": [
       "       COUNT_TIME  NUM_TOTAL\n",
       "0  4/10/2005 0:00         -1\n",
       "1  4/10/2005 0:05         -1\n",
       "2  4/10/2005 0:10         -1\n",
       "3  4/10/2005 0:15         -1\n",
       "4  4/10/2005 0:20         -1"
      ]
     },
     "execution_count": 333,
     "metadata": {},
     "output_type": "execute_result"
    }
   ],
   "source": [
    "read_data.head(5)"
   ]
  },
  {
   "cell_type": "code",
   "execution_count": 334,
   "metadata": {
    "collapsed": false,
    "deletable": true,
    "editable": true,
    "scrolled": true
   },
   "outputs": [
    {
     "data": {
      "text/plain": [
       "numpy.ndarray"
      ]
     },
     "execution_count": 334,
     "metadata": {},
     "output_type": "execute_result"
    }
   ],
   "source": [
    "read_data_values = read_data.values[:,1]\n",
    "type(read_data_values)"
   ]
  },
  {
   "cell_type": "markdown",
   "metadata": {
    "deletable": true,
    "editable": true
   },
   "source": [
    "### config some env varialbes"
   ]
  },
  {
   "cell_type": "code",
   "execution_count": 335,
   "metadata": {
    "collapsed": false,
    "deletable": true,
    "editable": true
   },
   "outputs": [
    {
     "name": "stdout",
     "output_type": "stream",
     "text": [
      "cpu_threads: 8\n"
     ]
    }
   ],
   "source": [
    "if(use_spark): # RDD partitions.\n",
    "    partition_nr = min(int(3.5 * sc.defaultParallelism), 1000)\n",
    "if(not use_spark): # parallel CPU threads.\n",
    "    import os\n",
    "    def get_nr_cpu_threads():\n",
    "        #for Linux, Unix and MacOS\n",
    "        if hasattr(os, \"sysconf\"):\n",
    "            if os.sysconf_names.has_key(\"SC_NPROCESSORS_ONLN\"):\n",
    "                #Linux and Unix\n",
    "                ncpus = os.sysconf(\"SC_NPROCESSORS_ONLN\")\n",
    "                if isinstance(ncpus, int) and ncpus > 0:\n",
    "                    return ncpus\n",
    "            else:\n",
    "                #MacOS X\n",
    "                return int(os.popen2(\"sysctl -n hw.ncpu\")[1].read())\n",
    "        #for Windows\n",
    "        if os.environ.has_key(\"NUMBER_OF_PROCESSORS\"):\n",
    "            ncpus = int(os.environ[\"NUMBER_OF_PROCESSORS\"])\n",
    "            if ncpus > 0:\n",
    "                return ncpus\n",
    "        #return the default value\n",
    "        return 1\n",
    "    \n",
    "    print(\"cpu_threads: %d\" % get_nr_cpu_threads())"
   ]
  },
  {
   "cell_type": "code",
   "execution_count": 336,
   "metadata": {
    "collapsed": true,
    "deletable": true,
    "editable": true
   },
   "outputs": [],
   "source": [
    "nr_periods_per_season = 288\n",
    "if(not use_spark):\n",
    "    parallel_job_nr = get_nr_cpu_threads() - 1"
   ]
  },
  {
   "cell_type": "markdown",
   "metadata": {
    "deletable": true,
    "editable": true
   },
   "source": [
    "### remove heading and tailing -1 values"
   ]
  },
  {
   "cell_type": "code",
   "execution_count": 337,
   "metadata": {
    "collapsed": false,
    "deletable": true,
    "editable": true
   },
   "outputs": [
    {
     "data": {
      "text/plain": [
       "(379, 50113)"
      ]
     },
     "execution_count": 337,
     "metadata": {},
     "output_type": "execute_result"
    }
   ],
   "source": [
    "index_1st_non_zero = next((index for index,value in enumerate(read_data_values) if value != -1), None)\n",
    "index_last_non_zero = sorted([index for index,value in enumerate(read_data_values) if value != -1])[-1]\n",
    "index_start = index_1st_non_zero\n",
    "index_1st_non_zero, index_last_non_zero"
   ]
  },
  {
   "cell_type": "markdown",
   "metadata": {
    "deletable": true,
    "editable": true
   },
   "source": [
    "###### select a complete starting season (align with physical world) // optional"
   ]
  },
  {
   "cell_type": "code",
   "execution_count": 338,
   "metadata": {
    "collapsed": false,
    "deletable": true,
    "editable": true
   },
   "outputs": [
    {
     "data": {
      "text/plain": [
       "576"
      ]
     },
     "execution_count": 338,
     "metadata": {},
     "output_type": "execute_result"
    }
   ],
   "source": [
    "index_start = int(math.ceil(float(index_1st_non_zero) / nr_periods_per_season)) * nr_periods_per_season\n",
    "index_start"
   ]
  },
  {
   "cell_type": "markdown",
   "metadata": {
    "deletable": true,
    "editable": true
   },
   "source": [
    "# Got data for exp."
   ]
  },
  {
   "cell_type": "code",
   "execution_count": 339,
   "metadata": {
    "collapsed": false,
    "deletable": true,
    "editable": true,
    "scrolled": false
   },
   "outputs": [
    {
     "data": {
      "text/plain": [
       "array([3, 8, 10, ..., 8, 13, 13], dtype=object)"
      ]
     },
     "execution_count": 339,
     "metadata": {},
     "output_type": "execute_result"
    }
   ],
   "source": [
    "main_data_a = read_data_values[index_start : index_last_non_zero + 1]\n",
    "main_data_a"
   ]
  },
  {
   "cell_type": "code",
   "execution_count": 340,
   "metadata": {
    "collapsed": false,
    "deletable": true,
    "editable": true
   },
   "outputs": [
    {
     "data": {
      "text/plain": [
       "'0.05'"
      ]
     },
     "execution_count": 340,
     "metadata": {},
     "output_type": "execute_result"
    }
   ],
   "source": [
    "use_missing_ratio"
   ]
  },
  {
   "cell_type": "code",
   "execution_count": 341,
   "metadata": {
    "collapsed": true,
    "deletable": true,
    "editable": true
   },
   "outputs": [],
   "source": [
    "if(use_missing_ratio != '0.05'):\n",
    "    print(\"loading non-0.05 data\")\n",
    "    main_data_a = np.load('Dodgers.data-' + use_missing_ratio + '_missing-artificial_missing_set_to_-' + str(int(float(use_missing_ratio) * 100)) + '.npy')"
   ]
  },
  {
   "cell_type": "code",
   "execution_count": 342,
   "metadata": {
    "collapsed": false,
    "deletable": true,
    "editable": true,
    "scrolled": false
   },
   "outputs": [
    {
     "data": {
      "image/png": "[encoded data removed]",
      "text/plain": [
       "<matplotlib.figure.Figure at 0x7f28413cc510>"
      ]
     },
     "metadata": {},
     "output_type": "display_data"
    }
   ],
   "source": [
    "if(using_jupyter_gui):\n",
    "    t = pd.DataFrame(main_data_a[:nr_periods_per_season * 10])\n",
    "    t.plot(figsize=(15, 4))\n",
    "    plt.show()"
   ]
  },
  {
   "cell_type": "markdown",
   "metadata": {
    "deletable": true,
    "editable": true
   },
   "source": [
    "# Training k,d,v"
   ]
  },
  {
   "cell_type": "markdown",
   "metadata": {
    "deletable": true,
    "editable": true
   },
   "source": [
    "#### config some algorithm variables"
   ]
  },
  {
   "cell_type": "code",
   "execution_count": 343,
   "metadata": {
    "collapsed": true,
    "deletable": true,
    "editable": true
   },
   "outputs": [],
   "source": [
    "max_allowed_query_one_side_extend = int(nr_periods_per_season) / 2\n",
    "DEFAULT_PREDICT = -1\n",
    "MAX_DISTANCE = 999"
   ]
  },
  {
   "cell_type": "code",
   "execution_count": 344,
   "metadata": {
    "collapsed": false,
    "deletable": true,
    "editable": true
   },
   "outputs": [
    {
     "data": {
      "text/plain": [
       "(0.045177439541362184, 0.05, 2476, 0.8548225604586378)"
      ]
     },
     "execution_count": 344,
     "metadata": {},
     "output_type": "execute_result"
    }
   ],
   "source": [
    "original_missing_ratio = sum(main_data_a < 0) / float(len(main_data_a))\n",
    "target_missing_ratio = 0.9\n",
    "added_missing_ratio = target_missing_ratio - original_missing_ratio\n",
    "train_ratio = 0.05 # use added_missing_ratio for creating missing-value datasets\n",
    "train_nr = int(len(main_data_a) * train_ratio)\n",
    "test_ratio = 0.05\n",
    "test_nr = int(len(main_data_a) * test_ratio)\n",
    "\n",
    "original_missing_ratio, train_ratio, train_nr, added_missing_ratio"
   ]
  },
  {
   "cell_type": "code",
   "execution_count": 345,
   "metadata": {
    "collapsed": false,
    "deletable": true,
    "editable": true,
    "scrolled": true
   },
   "outputs": [
    {
     "data": {
      "text/plain": [
       "array([  988,   989,   990, ..., 45712, 45713, 45714])"
      ]
     },
     "execution_count": 345,
     "metadata": {},
     "output_type": "execute_result"
    }
   ],
   "source": [
    "original_missing_index_tuple = np.where(main_data_a < 0)\n",
    "original_missing_index_array = original_missing_index_tuple[0]\n",
    "original_missing_index_array"
   ]
  },
  {
   "cell_type": "code",
   "execution_count": 346,
   "metadata": {
    "collapsed": false,
    "deletable": true,
    "editable": true,
    "scrolled": true
   },
   "outputs": [
    {
     "data": {
      "text/plain": [
       "array([    0,     1,     2, ..., 49535, 49536, 49537])"
      ]
     },
     "execution_count": 346,
     "metadata": {},
     "output_type": "execute_result"
    }
   ],
   "source": [
    "original_non_missing_index_tuple = np.where(main_data_a >= 0)\n",
    "original_non_missing_index_array = original_non_missing_index_tuple[0]\n",
    "original_non_missing_index_array"
   ]
  },
  {
   "cell_type": "code",
   "execution_count": 347,
   "metadata": {
    "collapsed": false,
    "deletable": true,
    "editable": true,
    "scrolled": true
   },
   "outputs": [
    {
     "data": {
      "text/plain": [
       "(172, 288, 49247)"
      ]
     },
     "execution_count": 347,
     "metadata": {},
     "output_type": "execute_result"
    }
   ],
   "source": [
    "nr_complete_seasons = len(main_data_a) / nr_periods_per_season\n",
    "train_min_allowed_index = nr_periods_per_season\n",
    "train_max_allowed_index = nr_periods_per_season * (nr_complete_seasons - 1) - 1\n",
    "nr_complete_seasons, train_min_allowed_index, train_max_allowed_index"
   ]
  },
  {
   "cell_type": "markdown",
   "metadata": {
    "deletable": true,
    "editable": true
   },
   "source": [
    "#### set k,d,v sets, wrt nr_complete_seasons"
   ]
  },
  {
   "cell_type": "code",
   "execution_count": 348,
   "metadata": {
    "collapsed": true,
    "deletable": true,
    "editable": true
   },
   "outputs": [],
   "source": [
    "def exp_range(start, end_non_inc, base):\n",
    "    while start < end_non_inc:\n",
    "        yield start\n",
    "        start *= base\n",
    "\n",
    "def exp_range_inc(start, end_inc, base):\n",
    "    while start <= end_inc:\n",
    "        yield start\n",
    "        start *= base\n",
    "\n",
    "def exp_range_cover(start, end_cover, base):\n",
    "    while start < end_cover:\n",
    "        yield start\n",
    "        start *= base\n",
    "    yield start"
   ]
  },
  {
   "cell_type": "code",
   "execution_count": 349,
   "metadata": {
    "collapsed": true,
    "deletable": true,
    "editable": true
   },
   "outputs": [],
   "source": [
    "if(debugging):\n",
    "    k_range = np.array((2, 4, 8))\n",
    "    d_range = np.array((2, 4, 8))\n",
    "    v_range = np.array((0, 2, 4, 8))\n",
    "else:\n",
    "    # generator\n",
    "    k_range = exp_range_cover(4, nr_complete_seasons / 2, 2)\n",
    "    d_range = exp_range_cover(4, nr_periods_per_season / 4, 2) # both sides (wingspan) is using / 2, but one-side d is / 4.\n",
    "    v_range = exp_range_cover(4, sp.sqrt(nr_periods_per_season), 2)\n",
    "    \n",
    "    # sunny experienced, to save time for draft. only for draft !!!\n",
    "    k_range = exp_range_inc(4, nr_complete_seasons / 2, 2)\n",
    "    d_range = exp_range_inc(2, 32, 2)\n",
    "    v_range = np.array((4, 8, 16))\n",
    "    \n",
    "    # generated array\n",
    "    k_range = np.array(list(k_range))\n",
    "    d_range = np.array(list(d_range))\n",
    "    v_range = np.array(list(v_range))\n",
    "    #v_range = d_range\n",
    "    v_range = np.append(0, v_range)"
   ]
  },
  {
   "cell_type": "code",
   "execution_count": 350,
   "metadata": {
    "collapsed": false,
    "deletable": true,
    "editable": true,
    "scrolled": true
   },
   "outputs": [
    {
     "data": {
      "text/plain": [
       "array([  0,  -1,   1,  -2,   2,  -3,   3,  -4,   4,  -5,   5,  -6,   6,\n",
       "        -7,   7,  -8,   8,  -9,   9, -10,  10, -11,  11, -12,  12, -13,\n",
       "        13, -14,  14, -15,  15, -16,  16])"
      ]
     },
     "execution_count": 350,
     "metadata": {},
     "output_type": "execute_result"
    }
   ],
   "source": [
    "#shift_range_max_index_array = range(-max(v_range), max(v_range) + 1)\n",
    "shift_range_max_index_array = np.array(0)\n",
    "for one_shift_abs in range(1, max(v_range) + 1):\n",
    "    shift_range_max_index_array = np.append(shift_range_max_index_array, [-one_shift_abs, one_shift_abs])\n",
    "shift_range_max_index_array"
   ]
  },
  {
   "cell_type": "code",
   "execution_count": 351,
   "metadata": {
    "collapsed": false,
    "deletable": true,
    "editable": true,
    "scrolled": false
   },
   "outputs": [
    {
     "data": {
      "text/plain": [
       "(array([ 4,  8, 16, 32, 64]),\n",
       " array([ 2,  4,  8, 16, 32]),\n",
       " array([ 0,  4,  8, 16]))"
      ]
     },
     "execution_count": 351,
     "metadata": {},
     "output_type": "execute_result"
    }
   ],
   "source": [
    "k_range, d_range, v_range"
   ]
  },
  {
   "cell_type": "code",
   "execution_count": 352,
   "metadata": {
    "collapsed": false,
    "deletable": true,
    "editable": true
   },
   "outputs": [
    {
     "data": {
      "text/plain": [
       "array([  288,   289,   290, ..., 49245, 49246, 49247])"
      ]
     },
     "execution_count": 352,
     "metadata": {},
     "output_type": "execute_result"
    }
   ],
   "source": [
    "complete_season_non_missing_index_array = original_non_missing_index_array[np.logical_and(train_min_allowed_index <= original_non_missing_index_array, original_non_missing_index_array <= train_max_allowed_index)]\n",
    "complete_season_non_missing_index_array"
   ]
  },
  {
   "cell_type": "code",
   "execution_count": 353,
   "metadata": {
    "collapsed": false,
    "deletable": true,
    "editable": true,
    "scrolled": false
   },
   "outputs": [
    {
     "data": {
      "text/plain": [
       "array([  288,   305,   348, ..., 49208, 49209, 49218])"
      ]
     },
     "execution_count": 353,
     "metadata": {},
     "output_type": "execute_result"
    }
   ],
   "source": [
    "np.random.seed(2017)\n",
    "train_index_array = np.random.choice(complete_season_non_missing_index_array, size=train_nr, replace=False)\n",
    "train_index_array = np.array(sorted(train_index_array))\n",
    "train_index_array"
   ]
  },
  {
   "cell_type": "code",
   "execution_count": 354,
   "metadata": {
    "collapsed": true,
    "deletable": true,
    "editable": true
   },
   "outputs": [],
   "source": [
    "if(real_impute_NOT_param_estimate):\n",
    "    k_range = np.array([32])\n",
    "    d_range = np.array([4])\n",
    "    v_range = np.array([8])\n",
    "    print('real_impute_NOT_param_estimate = True')\n",
    "    print(k_range, d_range, v_range)"
   ]
  },
  {
   "cell_type": "code",
   "execution_count": 355,
   "metadata": {
    "collapsed": false,
    "deletable": true,
    "editable": true
   },
   "outputs": [
    {
     "data": {
      "text/plain": [
       "array([  288,   305,   348, ..., 49208, 49209, 49218])"
      ]
     },
     "execution_count": 355,
     "metadata": {},
     "output_type": "execute_result"
    }
   ],
   "source": [
    "if(real_impute_NOT_param_estimate):\n",
    "    train_index_tuple = np.where(main_data_a < 0)\n",
    "    train_index_array = train_index_tuple[0]\n",
    "train_index_array"
   ]
  },
  {
   "cell_type": "code",
   "execution_count": 356,
   "metadata": {
    "collapsed": false,
    "deletable": true,
    "editable": true,
    "scrolled": true
   },
   "outputs": [
    {
     "data": {
      "text/plain": [
       "2476"
      ]
     },
     "execution_count": 356,
     "metadata": {},
     "output_type": "execute_result"
    }
   ],
   "source": [
    "ground_truth_array = main_data_a[train_index_array]\n",
    "len(ground_truth_array)"
   ]
  },
  {
   "cell_type": "code",
   "execution_count": 357,
   "metadata": {
    "collapsed": false,
    "deletable": true,
    "editable": true,
    "scrolled": false
   },
   "outputs": [
    {
     "data": {
      "text/plain": [
       "array([6, 3, 4, 26, 36, 29, 30, 18, 27, 33], dtype=object)"
      ]
     },
     "execution_count": 357,
     "metadata": {},
     "output_type": "execute_result"
    }
   ],
   "source": [
    "ground_truth_array[:10]"
   ]
  },
  {
   "cell_type": "markdown",
   "metadata": {
    "collapsed": true,
    "deletable": true,
    "editable": true
   },
   "source": [
    "#### dataset construction solution"
   ]
  },
  {
   "cell_type": "code",
   "execution_count": 358,
   "metadata": {
    "collapsed": false,
    "deletable": true,
    "editable": true,
    "scrolled": true
   },
   "outputs": [
    {
     "data": {
      "text/plain": [
       "array([  0,  -1,   1,  -2,   2,  -3,   3,  -4,   4,  -5,   5,  -6,   6,\n",
       "        -7,   7,  -8,   8,  -9,   9, -10,  10, -11,  11, -12,  12, -13,\n",
       "        13, -14,  14, -15,  15, -16,  16])"
      ]
     },
     "execution_count": 358,
     "metadata": {},
     "output_type": "execute_result"
    }
   ],
   "source": [
    "shift_range_max_index_array"
   ]
  },
  {
   "cell_type": "code",
   "execution_count": 359,
   "metadata": {
    "collapsed": true,
    "deletable": true,
    "editable": true
   },
   "outputs": [],
   "source": [
    "def RMSE(x_array):\n",
    "    return(np.sqrt(np.mean(x_array ** 2)))"
   ]
  },
  {
   "cell_type": "code",
   "execution_count": 360,
   "metadata": {
    "collapsed": true,
    "deletable": true,
    "editable": true
   },
   "outputs": [],
   "source": [
    "def get_distance(row_index_1, row_index_2, one_d):\n",
    "    one_distance = np.linalg.norm(main_data_a[history_instance_index_array_listing[row_index_1]] - main_data_a[history_instance_index_array_listing[row_index_2]])\n",
    "    return(one_distance)"
   ]
  },
  {
   "cell_type": "code",
   "execution_count": 361,
   "metadata": {
    "collapsed": true,
    "deletable": true,
    "editable": true
   },
   "outputs": [],
   "source": [
    "# distance type 3\n",
    "def dtw():\n",
    "    return(0)"
   ]
  },
  {
   "cell_type": "code",
   "execution_count": 362,
   "metadata": {
    "collapsed": true,
    "deletable": true,
    "editable": true
   },
   "outputs": [],
   "source": [
    "# distance type 2\n",
    "def distance_ed_extended_weighted(query_index_array_w_predict, row_index_history, one_d):\n",
    "    if(main_data_a[history_instance_index_array_listing[row_index_history][-1]] < 0):\n",
    "        return(MAX_DISTANCE)\n",
    "    \n",
    "    #one_side_span = int(one_side_span_sc_bc.value)\n",
    "    one_side_span = int((history_instance_index_array_listing.shape[1] - 1) / 2)\n",
    "    \n",
    "    query_index_array = query_index_array_w_predict[:-1]\n",
    "    history_instance_index_array = history_instance_index_array_listing[row_index_history][:-1]\n",
    "    \n",
    "    query_max_left_index_array  = query_index_array[:one_side_span]\n",
    "    query_max_right_index_array = query_index_array[-one_side_span:]\n",
    "    history_max_left_index_array  = history_instance_index_array[:one_side_span]\n",
    "    history_max_right_index_array = history_instance_index_array[-one_side_span:]\n",
    "    \n",
    "    # delete missing, if any\n",
    "    max_left_index_non_missing_logic_array = np.logical_and(main_data_a[query_max_left_index_array] >= 0, main_data_a[history_max_left_index_array] >= 0)\n",
    "    max_right_index_non_missing_logic_array = np.logical_and(main_data_a[query_max_right_index_array] >= 0, main_data_a[history_max_right_index_array] >= 0)\n",
    "    query_max_left_index_array  = query_max_left_index_array[max_left_index_non_missing_logic_array][-one_d:]\n",
    "    query_max_right_index_array = query_max_right_index_array[max_right_index_non_missing_logic_array][:one_d]\n",
    "    history_max_left_index_array  = history_max_left_index_array[max_left_index_non_missing_logic_array][-one_d:]\n",
    "    history_max_right_index_array = history_max_right_index_array[max_right_index_non_missing_logic_array][:one_d]\n",
    "\n",
    "    # if all deleted\n",
    "    if(sum(max_left_index_non_missing_logic_array) + sum(max_right_index_non_missing_logic_array) == 0):\n",
    "        return(MAX_DISTANCE)\n",
    "    \n",
    "    # assigning weights\n",
    "    predict_index = query_index_array_w_predict[-1]\n",
    "    \n",
    "    if(sum(max_left_index_non_missing_logic_array) != 0):\n",
    "        index_distance_abs_left_array = np.abs(query_max_left_index_array - predict_index)\n",
    "        index_weight_left_non_norm_array = max(index_distance_abs_left_array) - index_distance_abs_left_array + min(index_distance_abs_left_array)\n",
    "    else:\n",
    "        index_weight_left_non_norm_array = np.array([0])\n",
    "    \n",
    "    if(sum(max_right_index_non_missing_logic_array) != 0):\n",
    "        index_distance_abs_right_array = np.abs(query_max_right_index_array - predict_index)\n",
    "        index_weight_right_non_norm_array = max(index_distance_abs_right_array) - index_distance_abs_right_array + min(index_distance_abs_right_array)\n",
    "    else:\n",
    "        index_weight_right_non_norm_array = np.array([0])\n",
    "    \n",
    "    index_weight_left_norm_array = index_weight_left_non_norm_array / float(sum(index_weight_left_non_norm_array) + sum(index_weight_right_non_norm_array))\n",
    "    query_max_left_index_weight_array = index_weight_left_norm_array\n",
    "    \n",
    "    index_weight_right_norm_array = index_weight_right_non_norm_array / float(sum(index_weight_left_non_norm_array) + sum(index_weight_right_non_norm_array))\n",
    "    query_max_right_index_weight_array = index_weight_right_norm_array\n",
    "    \n",
    "    # weighted Euclidean distance\n",
    "    one_distance = sum(np.abs(main_data_a[query_max_left_index_array] - main_data_a[history_max_left_index_array]) * query_max_left_index_weight_array)\n",
    "    one_distance += sum(np.abs(main_data_a[query_max_right_index_array] - main_data_a[history_max_right_index_array]) * query_max_right_index_weight_array)\n",
    "    return(one_distance)"
   ]
  },
  {
   "cell_type": "code",
   "execution_count": 365,
   "metadata": {
    "collapsed": true,
    "deletable": true,
    "editable": true
   },
   "outputs": [],
   "source": [
    "def train_one_point(one_train_index):\n",
    "    global history_instance_index_array_listing\n",
    "    max_allowed_query_one_side_extend = max_allowed_query_one_side_extend_sc_bc.value\n",
    "    nr_complete_seasons = nr_complete_seasons_sc_bc.value\n",
    "    \n",
    "    max_allowed_query_one_side_extend = int(max_allowed_query_one_side_extend)\n",
    "    nr_complete_seasons = int(nr_complete_seasons)\n",
    "    \n",
    "    print(one_train_index)\n",
    "    \n",
    "    one_point_all_tuples_result_listing = np.array((-1, -1, -1, -1, -1.))\n",
    "    one_train_ground_truth = main_data_a[one_train_index]\n",
    "    main_data_a[one_train_index] = -2 # OBS: change it back after constructing history datasets\n",
    "    record_offset_of_day = one_train_index % nr_periods_per_season\n",
    "    \n",
    "    # construct max possible query (TO-improve: can also do this later wrt missing d values)\n",
    "    query_max_start_index = one_train_index - max(d_range) - max_allowed_query_one_side_extend\n",
    "    query_max_end_index = one_train_index + max(d_range) + max_allowed_query_one_side_extend\n",
    "    \n",
    "    if(debugging):\n",
    "        import os\n",
    "        os.system(\"echo '\" + str(query_max_start_index) + str(max(d_range)) + str(max_allowed_query_one_side_extend) + \"' > /mnt/nfsMountPoint/t_\" + str(one_train_index) + \".txt\")\n",
    "    if(query_max_start_index < 0):\n",
    "        query_max_start_index = 0\n",
    "    if(query_max_end_index > len(main_data_a)):\n",
    "        query_max_end_index = len(main_data_a)\n",
    "    query_max_left_index_array  = range(query_max_start_index, one_train_index)\n",
    "    query_max_right_index_array = range(one_train_index + 1, query_max_end_index + 1)\n",
    "    query_index_array_w_predict = np.hstack((\n",
    "        query_max_left_index_array, \n",
    "        query_max_right_index_array, \n",
    "        one_train_index))\n",
    "    history_instance_index_array_listing = query_index_array_w_predict\n",
    "    \n",
    "    for one_shift in shift_range_max_index_array:\n",
    "        for one_season_index in range(1, nr_complete_seasons - 1):\n",
    "            train_to_season_history_instance_index_global = one_season_index * nr_periods_per_season + record_offset_of_day\n",
    "            \n",
    "            # construct max possible history\n",
    "            train_to_season_record_offset_index_global = train_to_season_history_instance_index_global + one_shift\n",
    "            history_max_start_index_global = train_to_season_record_offset_index_global - max(d_range) - max_allowed_query_one_side_extend\n",
    "            history_max_end_index_global = train_to_season_record_offset_index_global + max(d_range) + max_allowed_query_one_side_extend\n",
    "            \n",
    "            if(history_max_start_index_global < 0 or history_max_end_index_global > len(main_data_a)):\n",
    "                print(\"WARN: history_max_start_index_global out of range\")\n",
    "                continue\n",
    "            history_max_left_index_array  = range(history_max_start_index_global, train_to_season_record_offset_index_global)\n",
    "            history_max_right_index_array = range(train_to_season_record_offset_index_global + 1, history_max_end_index_global + 1)\n",
    "            \n",
    "            one_history_instance_index_array = np.hstack((\n",
    "                history_max_left_index_array, \n",
    "                history_max_right_index_array, \n",
    "                train_to_season_record_offset_index_global))\n",
    "            history_instance_index_array_listing = np.vstack((history_instance_index_array_listing, one_history_instance_index_array))\n",
    "    history_instance_index_array_listing = history_instance_index_array_listing[1:] # weird, cannot delete the 1st line\n",
    "            \n",
    "    # train\n",
    "    for one_d in d_range:\n",
    "        distance_listing = np.empty(shape=(0, 0))\n",
    "        for row_index in range(0, history_instance_index_array_listing.shape[0]):\n",
    "            if(distance_index == 0):\n",
    "                one_distance = distance_ed(query_index_array_w_predict, row_index, one_d)\n",
    "            elif(distance_index == 1):\n",
    "                one_distance = distance_ed_extended(query_index_array_w_predict, row_index, one_d)\n",
    "            elif(distance_index == 2):\n",
    "                one_distance = distance_ed_extended_weighted(query_index_array_w_predict, row_index, one_d)\n",
    "            elif(distance_index == 3):\n",
    "                one_distance = distance_ed_extended_weighted_sensitive(query_index_array_w_predict, row_index, one_d)\n",
    "            distance_listing = np.append(distance_listing, one_distance)\n",
    "        \n",
    "        # TO-IMPROVE: append (train_index,effective_left_gap,effective_right_gap) # each train-instance / each (row & train-instance)\n",
    "        \n",
    "        for one_v in v_range:\n",
    "            #select the fist related shifts from top history_instance_index_array_listing\n",
    "            nr_shifts_for_v = one_v * 2 + 1\n",
    "            nr_comparable_seasons = nr_complete_seasons - 2\n",
    "            nr_rows_for_v = nr_shifts_for_v * nr_comparable_seasons\n",
    "            selected_neighbours_for_v = history_instance_index_array_listing[:nr_rows_for_v]\n",
    "            selected_distance_for_v = distance_listing[:nr_rows_for_v]\n",
    "            # sort by dist. #TO-IMPROVE: for-each type of dist\n",
    "            selected_neighbours_for_v = selected_neighbours_for_v[selected_distance_for_v.argsort()]\n",
    "            prediction_indexes_of_nearest_neighbours_max_k = selected_neighbours_for_v[:,-1]\n",
    "            \n",
    "            for one_k in k_range:\n",
    "                prediction_indexes_of_nearest_neighbours_one_k = prediction_indexes_of_nearest_neighbours_max_k[:one_k]\n",
    "                # TO-IMPROVE (weighted) avg as predict\n",
    "                predictions_of_nearest_neighbours = main_data_a[prediction_indexes_of_nearest_neighbours_one_k]\n",
    "                prediction = np.mean(predictions_of_nearest_neighbours)\n",
    "                # measure predicted err (original err, can calculate MAE/RMSE later)\n",
    "                err = prediction - one_train_ground_truth\n",
    "                # append (train_index,k,d,v,err) to all_train_results #TO-IMPROVE: 1 col for dist type\n",
    "                one_point_result = np.hstack((one_train_index, one_k, one_d, one_v, err))\n",
    "                one_point_all_tuples_result_listing = np.vstack((one_point_all_tuples_result_listing, one_point_result))\n",
    "                \n",
    "    one_point_all_tuples_result_listing = one_point_all_tuples_result_listing[1:]\n",
    "    main_data_a[one_train_index] = one_train_ground_truth\n",
    "    return(one_point_all_tuples_result_listing)"
   ]
  },
  {
   "cell_type": "code",
   "execution_count": 302,
   "metadata": {
    "collapsed": false,
    "deletable": true,
    "editable": true,
    "scrolled": false
   },
   "outputs": [
    {
     "name": "stdout",
     "output_type": "stream",
     "text": [
      "start and end index_index: 0-1\n",
      "33379\n",
      "('Total time sec:', 108.39641499519348)\n"
     ]
    }
   ],
   "source": [
    "main_data_a[train_index_array] = ground_truth_array\n",
    "start_time_sec = time.time()\n",
    "\n",
    "# 10s to construct dataset for 1 train point (non-debugging, single processor); 5% test means 7 hours\n",
    "# 24s to construct and train for 1 train point \n",
    "\n",
    "train_points_per_runner = len(train_index_array) / total_runner\n",
    "this_runner_train_index_index_start = train_points_per_runner * runner_index\n",
    "if(runner_index == total_runner - 1):\n",
    "    this_runner_train_index_index_end = len(train_index_array)\n",
    "else:\n",
    "    this_runner_train_index_index_end = train_points_per_runner * (runner_index + 1) - 1\n",
    "\n",
    "print('start and end index_index: ' + str(this_runner_train_index_index_start) + '-' + str(this_runner_train_index_index_end))\n",
    "\n",
    "if(use_spark):\n",
    "    max_allowed_query_one_side_extend_sc_bc = sc.broadcast(max_allowed_query_one_side_extend)\n",
    "    nr_complete_seasons_sc_bc = sc.broadcast(nr_complete_seasons)\n",
    "\n",
    "if(debugging):\n",
    "    if(not use_spark):\n",
    "        all_points_all_tuples_result_listing = Parallel(n_jobs=parallel_job_nr)(delayed(train_one_point)(one_train_index) for one_train_index in train_index_array[:2])\n",
    "    else:\n",
    "        my_rdd = sc.parallelize(list(train_index_array[:3]))\n",
    "        map_result = my_rdd.map(train_one_point)\n",
    "        all_points_all_tuples_result_listing = map_result.collect()\n",
    "else:\n",
    "    if(not use_spark):\n",
    "        all_points_all_tuples_result_listing = Parallel(n_jobs=parallel_job_nr)(delayed(train_one_point)(one_train_index) for one_train_index in train_index_array[this_runner_train_index_index_start:this_runner_train_index_index_end])\n",
    "    else:\n",
    "        my_rdd = sc.parallelize(list(train_index_array), partition_nr)\n",
    "        map_result = my_rdd.map(train_one_point)\n",
    "        all_points_all_tuples_result_listing = map_result.collect()\n",
    "    \n",
    "if(not using_jupyter_gui):\n",
    "    if(distance_index == 2):\n",
    "        all_points_all_tuples_result_listing = np.array(all_points_all_tuples_result_listing)\n",
    "    np.save(filename_data, all_points_all_tuples_result_listing)\n",
    "\n",
    "print('Total time sec:', time.time() - start_time_sec)\n",
    "\n",
    "#TODO: change rand missing and do testing"
   ]
  },
  {
   "cell_type": "code",
   "execution_count": null,
   "metadata": {
    "collapsed": true,
    "deletable": true,
    "editable": true
   },
   "outputs": [],
   "source": [
    "# now, we can go to inner-analysis,ipynb to check the results"
   ]
  },
  {
   "cell_type": "code",
   "execution_count": null,
   "metadata": {
    "collapsed": true,
    "deletable": true,
    "editable": true
   },
   "outputs": [],
   "source": []
  },
  {
   "cell_type": "code",
   "execution_count": null,
   "metadata": {
    "collapsed": true,
    "deletable": true,
    "editable": true
   },
   "outputs": [],
   "source": []
  },
  {
   "cell_type": "markdown",
   "metadata": {
    "deletable": true,
    "editable": true
   },
   "source": [
    "# Manual Check"
   ]
  },
  {
   "cell_type": "code",
   "execution_count": 211,
   "metadata": {
    "collapsed": true,
    "deletable": true,
    "editable": true
   },
   "outputs": [],
   "source": [
    "#! bash -e 'ifconfig 2>/dev/null | sed -En s/127.0.0.1//;s/.*inet (addr:)?([0-9]*\\.{1})([0-9]*\\.{1})([0-9]*\\.{1})([0-9]*).*/\\5/p'"
   ]
  },
  {
   "cell_type": "code",
   "execution_count": 144,
   "metadata": {
    "collapsed": true,
    "deletable": true,
    "editable": true
   },
   "outputs": [],
   "source": [
    "if(not using_jupyter_gui):\n",
    "    sys.stdout = orig_stdout\n",
    "    f_stdout.close()"
   ]
  },
  {
   "cell_type": "code",
   "execution_count": null,
   "metadata": {
    "collapsed": true,
    "deletable": true,
    "editable": true
   },
   "outputs": [],
   "source": [
    "'''\n",
    "# manual check & save start"
   ]
  },
  {
   "cell_type": "code",
   "execution_count": 303,
   "metadata": {
    "collapsed": true,
    "deletable": true,
    "editable": true
   },
   "outputs": [],
   "source": [
    "all_points_all_tuples_result_listing = np.array(all_points_all_tuples_result_listing)"
   ]
  },
  {
   "cell_type": "code",
   "execution_count": 304,
   "metadata": {
    "collapsed": false,
    "deletable": true,
    "editable": true,
    "scrolled": true
   },
   "outputs": [
    {
     "data": {
      "text/plain": [
       "(1, 1, 5)"
      ]
     },
     "execution_count": 304,
     "metadata": {},
     "output_type": "execute_result"
    }
   ],
   "source": [
    "all_points_all_tuples_result_listing.shape"
   ]
  },
  {
   "cell_type": "code",
   "execution_count": 305,
   "metadata": {
    "collapsed": false,
    "deletable": true,
    "editable": true,
    "scrolled": false
   },
   "outputs": [
    {
     "data": {
      "text/plain": [
       "array([[ 42.3125]])"
      ]
     },
     "execution_count": 305,
     "metadata": {},
     "output_type": "execute_result"
    }
   ],
   "source": [
    "all_points_all_tuples_result_listing[:,:,-1]"
   ]
  },
  {
   "cell_type": "code",
   "execution_count": null,
   "metadata": {
    "collapsed": true,
    "deletable": true,
    "editable": true
   },
   "outputs": [],
   "source": [
    "# save "
   ]
  },
  {
   "cell_type": "code",
   "execution_count": 306,
   "metadata": {
    "collapsed": false,
    "deletable": true,
    "editable": true,
    "scrolled": true
   },
   "outputs": [
    {
     "data": {
      "text/plain": [
       "'started_GMT_20170918_1443-distance_2ed_extended_weighted--missing_0.05-runner_1_0.npy'"
      ]
     },
     "execution_count": 306,
     "metadata": {},
     "output_type": "execute_result"
    }
   ],
   "source": [
    "filename_data"
   ]
  },
  {
   "cell_type": "code",
   "execution_count": 152,
   "metadata": {
    "collapsed": true,
    "deletable": true,
    "editable": true
   },
   "outputs": [],
   "source": [
    "np.save(filename_data, all_points_all_tuples_result_listing)"
   ]
  },
  {
   "cell_type": "code",
   "execution_count": null,
   "metadata": {
    "collapsed": true,
    "deletable": true,
    "editable": true
   },
   "outputs": [],
   "source": [
    "'''\n",
    "# manual check & save end"
   ]
  },
  {
   "cell_type": "code",
   "execution_count": null,
   "metadata": {
    "collapsed": true,
    "deletable": true,
    "editable": true
   },
   "outputs": [],
   "source": []
  },
  {
   "cell_type": "code",
   "execution_count": null,
   "metadata": {
    "collapsed": true,
    "deletable": true,
    "editable": true
   },
   "outputs": [],
   "source": []
  },
  {
   "cell_type": "code",
   "execution_count": null,
   "metadata": {
    "collapsed": true,
    "deletable": true,
    "editable": true
   },
   "outputs": [],
   "source": []
  },
  {
   "cell_type": "markdown",
   "metadata": {
    "deletable": true,
    "editable": true
   },
   "source": [
    "# Combine Imputed Values\n",
    "according to impute-1-inner-analysis results."
   ]
  },
  {
   "cell_type": "code",
   "execution_count": null,
   "metadata": {
    "collapsed": true,
    "deletable": true,
    "editable": true
   },
   "outputs": [],
   "source": [
    "'''"
   ]
  },
  {
   "cell_type": "code",
   "execution_count": 90,
   "metadata": {
    "collapsed": false,
    "deletable": true,
    "editable": true
   },
   "outputs": [
    {
     "data": {
      "text/html": [
       "<div>\n",
       "<table border=\"1\" class=\"dataframe\">\n",
       "  <thead>\n",
       "    <tr style=\"text-align: right;\">\n",
       "      <th></th>\n",
       "      <th>train_index</th>\n",
       "      <th>k</th>\n",
       "      <th>d</th>\n",
       "      <th>v</th>\n",
       "      <th>err</th>\n",
       "    </tr>\n",
       "  </thead>\n",
       "  <tbody>\n",
       "    <tr>\n",
       "      <th>0</th>\n",
       "      <td>17842</td>\n",
       "      <td>32</td>\n",
       "      <td>8</td>\n",
       "      <td>16</td>\n",
       "      <td>18.239583</td>\n",
       "    </tr>\n",
       "    <tr>\n",
       "      <th>1</th>\n",
       "      <td>17843</td>\n",
       "      <td>32</td>\n",
       "      <td>8</td>\n",
       "      <td>16</td>\n",
       "      <td>17.687500</td>\n",
       "    </tr>\n",
       "    <tr>\n",
       "      <th>2</th>\n",
       "      <td>17844</td>\n",
       "      <td>32</td>\n",
       "      <td>8</td>\n",
       "      <td>16</td>\n",
       "      <td>19.156250</td>\n",
       "    </tr>\n",
       "    <tr>\n",
       "      <th>3</th>\n",
       "      <td>17845</td>\n",
       "      <td>32</td>\n",
       "      <td>8</td>\n",
       "      <td>16</td>\n",
       "      <td>18.906250</td>\n",
       "    </tr>\n",
       "    <tr>\n",
       "      <th>4</th>\n",
       "      <td>19757</td>\n",
       "      <td>32</td>\n",
       "      <td>8</td>\n",
       "      <td>16</td>\n",
       "      <td>58.843750</td>\n",
       "    </tr>\n",
       "  </tbody>\n",
       "</table>\n",
       "</div>"
      ],
      "text/plain": [
       "   train_index   k  d   v        err\n",
       "0        17842  32  8  16  18.239583\n",
       "1        17843  32  8  16  17.687500\n",
       "2        17844  32  8  16  19.156250\n",
       "3        17845  32  8  16  18.906250\n",
       "4        19757  32  8  16  58.843750"
      ]
     },
     "execution_count": 90,
     "metadata": {},
     "output_type": "execute_result"
    }
   ],
   "source": [
    "imputed_index_and_values = pd.read_pickle('imputed_index_and_values.pkl')\n",
    "imputed_index_and_values.head()"
   ]
  },
  {
   "cell_type": "code",
   "execution_count": null,
   "metadata": {
    "collapsed": true,
    "deletable": true,
    "editable": true
   },
   "outputs": [],
   "source": [
    "main_data_a[imputed_index_and_values['train_index']]"
   ]
  },
  {
   "cell_type": "code",
   "execution_count": 93,
   "metadata": {
    "collapsed": false,
    "deletable": true,
    "editable": true
   },
   "outputs": [
    {
     "data": {
      "text/plain": [
       "array([18.239583333333336, 17.6875, 19.15625, ..., 6.59375, 21.75, 48.8125], dtype=object)"
      ]
     },
     "execution_count": 93,
     "metadata": {},
     "output_type": "execute_result"
    }
   ],
   "source": [
    "main_data_a[imputed_index_and_values['train_index']] = imputed_index_and_values['err']\n",
    "main_data_a[imputed_index_and_values['train_index']]"
   ]
  },
  {
   "cell_type": "code",
   "execution_count": 97,
   "metadata": {
    "collapsed": false,
    "deletable": true,
    "editable": true,
    "scrolled": true
   },
   "outputs": [
    {
     "data": {
      "text/plain": [
       "0"
      ]
     },
     "execution_count": 97,
     "metadata": {},
     "output_type": "execute_result"
    }
   ],
   "source": [
    "sum(imputed_index_and_values['err'] < 0)"
   ]
  },
  {
   "cell_type": "code",
   "execution_count": 98,
   "metadata": {
    "collapsed": false,
    "deletable": true,
    "editable": true,
    "scrolled": true
   },
   "outputs": [
    {
     "data": {
      "text/plain": [
       "0"
      ]
     },
     "execution_count": 98,
     "metadata": {},
     "output_type": "execute_result"
    }
   ],
   "source": [
    "sum(main_data_a[imputed_index_and_values['train_index']] < 0)"
   ]
  },
  {
   "cell_type": "code",
   "execution_count": 16,
   "metadata": {
    "collapsed": false,
    "deletable": true,
    "editable": true
   },
   "outputs": [
    {
     "data": {
      "text/plain": [
       "0"
      ]
     },
     "execution_count": 16,
     "metadata": {},
     "output_type": "execute_result"
    }
   ],
   "source": [
    "sum(main_data_a < 0)"
   ]
  },
  {
   "cell_type": "code",
   "execution_count": 166,
   "metadata": {
    "collapsed": true,
    "deletable": true,
    "editable": true,
    "scrolled": true
   },
   "outputs": [],
   "source": [
    "read_data['NUM_TOTAL'] = main_data_a"
   ]
  },
  {
   "cell_type": "code",
   "execution_count": 170,
   "metadata": {
    "collapsed": false,
    "deletable": true,
    "editable": true
   },
   "outputs": [
    {
     "data": {
      "text/plain": [
       "54.33496094"
      ]
     },
     "execution_count": 170,
     "metadata": {},
     "output_type": "execute_result"
    }
   ],
   "source": [
    "(read_data['NUM_TOTAL'][107873])"
   ]
  },
  {
   "cell_type": "code",
   "execution_count": null,
   "metadata": {
    "collapsed": true,
    "deletable": true,
    "editable": true
   },
   "outputs": [],
   "source": [
    "read_data"
   ]
  },
  {
   "cell_type": "code",
   "execution_count": 173,
   "metadata": {
    "collapsed": true,
    "deletable": true,
    "editable": true
   },
   "outputs": [],
   "source": [
    "read_data.to_pickle('Dodgers.data.imputed.pkl')"
   ]
  },
  {
   "cell_type": "code",
   "execution_count": 172,
   "metadata": {
    "collapsed": true,
    "deletable": true,
    "editable": true
   },
   "outputs": [],
   "source": [
    "read_data.to_csv('Dodgers.data.imputed.csv', index=False)"
   ]
  },
  {
   "cell_type": "code",
   "execution_count": null,
   "metadata": {
    "collapsed": true,
    "deletable": true,
    "editable": true
   },
   "outputs": [],
   "source": [
    "'''"
   ]
  },
  {
   "cell_type": "code",
   "execution_count": null,
   "metadata": {
    "collapsed": true,
    "deletable": true,
    "editable": true
   },
   "outputs": [],
   "source": []
  }
 ],
 "metadata": {
  "kernelspec": {
   "display_name": "Python 3",
   "language": "python",
   "name": "python3"
  },
  "language_info": {
   "codemirror_mode": {
    "name": "ipython",
    "version": 3
   },
   "file_extension": ".py",
   "mimetype": "text/x-python",
   "name": "python",
   "nbconvert_exporter": "python",
   "pygments_lexer": "ipython3",
   "version": "3.5.2"
  }
 },
 "nbformat": 4,
 "nbformat_minor": 2
}
